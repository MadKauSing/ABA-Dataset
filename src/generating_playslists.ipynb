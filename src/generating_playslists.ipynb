{
 "cells": [
  {
   "cell_type": "code",
   "execution_count": 2,
   "metadata": {},
   "outputs": [],
   "source": [
    "import pandas\n",
    "import spotipy\n",
    "from spotipy.oauth2 import SpotifyOAuth\n",
    "import json\n",
    "\n",
    "CLIENT_ID = \"834e7549e0fb4b4a89ca4ba4ead45f93\"\n",
    "CLIENT_SECRET = \"470a82dcfc844634ad6705a1a191866d\"\n",
    "REDIRECT= \"http://localhost:8888/callback\"\n",
    "\n",
    "# sp = spotipy.Spotify(auth_manager=SpotifyOAuth(client_id=CLIENT_ID, client_secret= CLIENT_SECRET, redirect_uri=REDIRECT, scope=scope))\n",
    "spotify=spotipy.Spotify(auth_manager=SpotifyOAuth(client_id=CLIENT_ID, client_secret= CLIENT_SECRET, redirect_uri=REDIRECT))"
   ]
  },
  {
   "cell_type": "code",
   "execution_count": 3,
   "metadata": {},
   "outputs": [
    {
     "data": {
      "text/plain": [
       "['carnatic',\n",
       " 'hindustani classical',\n",
       " 'punjabi hip hop',\n",
       " 'ghazal',\n",
       " 'desi pop',\n",
       " 'indian indie',\n",
       " 'sufi',\n",
       " 'classic bollywood',\n",
       " 'tamil pop',\n",
       " 'bhojpuri pop']"
      ]
     },
     "execution_count": 3,
     "metadata": {},
     "output_type": "execute_result"
    }
   ],
   "source": [
    "files=open('./genres.txt','r')\n",
    "\n",
    "genres=[x.strip('\\n') for x in files.readlines()]\n",
    "genres"
   ]
  },
  {
   "cell_type": "code",
   "execution_count": 4,
   "metadata": {},
   "outputs": [],
   "source": [
    "genre_dict={}\n",
    "for i in genres:\n",
    "    genre_dict[i]=[]"
   ]
  },
  {
   "cell_type": "code",
   "execution_count": 5,
   "metadata": {},
   "outputs": [],
   "source": [
    "genre_dict['carnatic'].append('37i9dQZF1DX4tCh1BbG63z')\n",
    "genre_dict['carnatic'].append('37i9dQZF1DXcQDIWVt93jl')\n",
    "genre_dict['carnatic'].append('4c0FH7ppMiVUJ8DB5zbfZg')\n"
   ]
  },
  {
   "cell_type": "code",
   "execution_count": 6,
   "metadata": {},
   "outputs": [],
   "source": [
    "genre_dict['hindustani classical'].append('37i9dQZF1DX6EUcyVKIE73')\n",
    "genre_dict['hindustani classical'].append('07TTxAhPmKr4Pw3A8GWcnv')\n",
    "genre_dict['hindustani classical'].append('37i9dQZF1DX6QsiGlwQqfw')"
   ]
  },
  {
   "cell_type": "code",
   "execution_count": 7,
   "metadata": {},
   "outputs": [],
   "source": [
    "genre_dict['punjabi hip hop'].append('37i9dQZF1DX5cZuAHLNjGz')\n",
    "genre_dict['punjabi hip hop'].append('37i9dQZF1DWTqYqGLu7kTX')\n",
    "genre_dict['punjabi hip hop'].append('37i9dQZF1DWXVJK4aT7pmk')"
   ]
  },
  {
   "cell_type": "code",
   "execution_count": 8,
   "metadata": {},
   "outputs": [],
   "source": [
    "genre_dict['ghazal'].append('37i9dQZF1DXdsiL9gD4vAA')\n",
    "genre_dict['ghazal'].append('37i9dQZF1EIdwYKvOYWK17')\n",
    "genre_dict['ghazal'].append('3aVvXfZZds4cjdZXloUzuv')"
   ]
  },
  {
   "cell_type": "code",
   "execution_count": 9,
   "metadata": {},
   "outputs": [],
   "source": [
    "genre_dict['desi pop'].append('5T5xOFP3qd3tZweafzeCsr')\n",
    "genre_dict['desi pop'].append('37i9dQZF1DWTwzVdyRpXm1')"
   ]
  },
  {
   "cell_type": "code",
   "execution_count": 10,
   "metadata": {},
   "outputs": [],
   "source": [
    "genre_dict['indian indie'].append('37i9dQZF1DX5q67ZpWyRrZ')\n",
    "genre_dict['indian indie'].append('37i9dQZF1DX9Kz7jBbxgYQ')\n",
    "genre_dict['indian indie'].append('37i9dQZF1DWXSzFkaLsPkN')\n"
   ]
  },
  {
   "cell_type": "code",
   "execution_count": 11,
   "metadata": {},
   "outputs": [],
   "source": [
    "genre_dict['sufi'].append('0b9EKgAmUBaiBdZBrEhmnf')\n",
    "genre_dict['sufi'].append('37i9dQZF1DX2Y6ZOyTJZfp')\n",
    "genre_dict['sufi'].append('37i9dQZF1DX9mwNrgNa73l')"
   ]
  },
  {
   "cell_type": "code",
   "execution_count": 12,
   "metadata": {},
   "outputs": [],
   "source": [
    "genre_dict['classic bollywood'].append('45kAbfAdCqx3DjnoByW5hg')\n",
    "genre_dict['classic bollywood'].append('3krQQMaFu02sVvEqkiM2Do')"
   ]
  },
  {
   "cell_type": "code",
   "execution_count": 13,
   "metadata": {},
   "outputs": [],
   "source": [
    "genre_dict['tamil pop'].append('37i9dQZF1DX1i3hvzHpcQV')\n",
    "genre_dict['tamil pop'].append('37i9dQZF1DXaVmfUr97Uve')\n",
    "genre_dict['tamil pop'].append('08Esqeob5IXwMnqyavhXfJ')"
   ]
  },
  {
   "cell_type": "code",
   "execution_count": 14,
   "metadata": {},
   "outputs": [],
   "source": [
    "genre_dict['bhojpuri pop'].append('6SBMhQ89bOrjB6BDI60Jrm')\n",
    "genre_dict['bhojpuri pop'].append('37i9dQZF1DXayxAYAg0lzu')\n",
    "genre_dict['bhojpuri pop'].append('4IzeGV3KMIxi7WMPqGaxDq')"
   ]
  },
  {
   "cell_type": "code",
   "execution_count": 15,
   "metadata": {},
   "outputs": [
    {
     "name": "stdout",
     "output_type": "stream",
     "text": [
      "{\n",
      " \"carnatic\": [\n",
      "  \"37i9dQZF1DX4tCh1BbG63z\",\n",
      "  \"37i9dQZF1DXcQDIWVt93jl\",\n",
      "  \"4c0FH7ppMiVUJ8DB5zbfZg\"\n",
      " ],\n",
      " \"hindustani classical\": [\n",
      "  \"37i9dQZF1DX6EUcyVKIE73\",\n",
      "  \"07TTxAhPmKr4Pw3A8GWcnv\",\n",
      "  \"37i9dQZF1DX6QsiGlwQqfw\"\n",
      " ],\n",
      " \"punjabi hip hop\": [\n",
      "  \"37i9dQZF1DX5cZuAHLNjGz\",\n",
      "  \"37i9dQZF1DWTqYqGLu7kTX\",\n",
      "  \"37i9dQZF1DWXVJK4aT7pmk\"\n",
      " ],\n",
      " \"ghazal\": [\n",
      "  \"37i9dQZF1DXdsiL9gD4vAA\",\n",
      "  \"37i9dQZF1EIdwYKvOYWK17\",\n",
      "  \"3aVvXfZZds4cjdZXloUzuv\"\n",
      " ],\n",
      " \"desi pop\": [\n",
      "  \"5T5xOFP3qd3tZweafzeCsr\",\n",
      "  \"37i9dQZF1DWTwzVdyRpXm1\"\n",
      " ],\n",
      " \"indian indie\": [\n",
      "  \"37i9dQZF1DX5q67ZpWyRrZ\",\n",
      "  \"37i9dQZF1DX9Kz7jBbxgYQ\",\n",
      "  \"37i9dQZF1DWXSzFkaLsPkN\"\n",
      " ],\n",
      " \"sufi\": [\n",
      "  \"0b9EKgAmUBaiBdZBrEhmnf\",\n",
      "  \"37i9dQZF1DX2Y6ZOyTJZfp\",\n",
      "  \"37i9dQZF1DX9mwNrgNa73l\"\n",
      " ],\n",
      " \"classic bollywood\": [\n",
      "  \"45kAbfAdCqx3DjnoByW5hg\",\n",
      "  \"3krQQMaFu02sVvEqkiM2Do\"\n",
      " ],\n",
      " \"tamil pop\": [\n",
      "  \"37i9dQZF1DX1i3hvzHpcQV\",\n",
      "  \"37i9dQZF1DXaVmfUr97Uve\",\n",
      "  \"08Esqeob5IXwMnqyavhXfJ\"\n",
      " ],\n",
      " \"bhojpuri pop\": [\n",
      "  \"6SBMhQ89bOrjB6BDI60Jrm\",\n",
      "  \"37i9dQZF1DXayxAYAg0lzu\",\n",
      "  \"4IzeGV3KMIxi7WMPqGaxDq\"\n",
      " ]\n",
      "}\n"
     ]
    }
   ],
   "source": [
    "genre_dict=json.dumps(genre_dict,indent=1)\n",
    "print(genre_dict)"
   ]
  },
  {
   "cell_type": "code",
   "execution_count": 24,
   "metadata": {},
   "outputs": [],
   "source": [
    "import csv\n",
    "\n",
    "# Going through playlists from each genre and adding songs to them\n",
    "\n",
    "dataset = []\n",
    "\n",
    "for genre in genres:\n",
    "    song_count = 0\n",
    "    for playlist in genres[genre]:\n",
    "        res = spotify.playlist_items(playlist_id=playlist)\n",
    "        \n",
    "        if song_count % 100 == 0 and song_count != 0:\n",
    "                break\n",
    "        \n",
    "        for track in res['items']:\n",
    "            artist_names = []\n",
    "            for artist_name in track['track']['album']['artists']:\n",
    "                artist_names.append(artist_name['name'])\n",
    "            data = [ track['track']['id'],track['track']['name'],artist_names,genre ]\n",
    "            if data in dataset:\n",
    "                continue\n",
    "            else:\n",
    "                dataset.append(data)\n",
    "            \n",
    "            song_count += 1\n",
    "            if song_count % 100 == 0 and song_count != 0:\n",
    "                break\n",
    "\n",
    "headers = ['id','name','artists','genre']\n",
    "\n",
    "with open(\"../dataset.csv\", 'w', encoding='UTF8',newline='') as f:\n",
    "    writer = csv.writer(f)\n",
    "    writer.writerow(headers)\n",
    "    writer.writerows(dataset)"
   ]
  }
 ],
 "metadata": {
  "kernelspec": {
   "display_name": "Python 3.10.7 64-bit (microsoft store)",
   "language": "python",
   "name": "python3"
  },
  "language_info": {
   "codemirror_mode": {
    "name": "ipython",
    "version": 3
   },
   "file_extension": ".py",
   "mimetype": "text/x-python",
   "name": "python",
   "nbconvert_exporter": "python",
   "pygments_lexer": "ipython3",
   "version": "3.10.7"
  },
  "orig_nbformat": 4,
  "vscode": {
   "interpreter": {
    "hash": "30d475033c0928b95234fbbc496e659fedb0f92ce88e1cb0d2d96ee86321ca81"
   }
  }
 },
 "nbformat": 4,
 "nbformat_minor": 2
}
