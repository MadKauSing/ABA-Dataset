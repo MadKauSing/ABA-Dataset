{
 "cells": [
  {
   "cell_type": "code",
   "execution_count": 5,
   "metadata": {},
   "outputs": [
    {
     "name": "stderr",
     "output_type": "stream",
     "text": [
      "/tmp/ipykernel_32178/4274256177.py:12: DeprecationWarning: You're using 'as_dict = True'.get_access_token will return the token string directly in future versions. Please adjust your code accordingly, or use get_cached_token instead.\n",
      "  token = credentials.get_access_token()\n",
      "HTTP Error for GET to https://api.spotify.com/v1/search with Params: {'q': 'coldplay yellow', 'limit': 1, 'offset': 0, 'type': 'track', 'market': ['AD', 'AR', 'AT', 'AU', 'BE', 'BG', 'BO', 'BR', 'CA', 'CH', 'CL', 'CO', 'CR', 'CY', 'CZ', 'DE', 'DK', 'DO', 'EC', 'EE', 'ES', 'FI', 'FR', 'GB', 'GR', 'GT', 'HK', 'HN', 'HU', 'ID', 'IE', 'IS', 'IT', 'JP', 'LI', 'LT', 'LU', 'LV', 'MC', 'MT', 'MX', 'MY', 'NI', 'NL', 'NO', 'NZ', 'PA', 'PE', 'PH', 'PL', 'PT', 'PY', 'SE', 'SG', 'SK', 'SV', 'TH', 'TR', 'TW', 'US', 'UY', 'VN']} returned 400 due to Only valid bearer authentication supported\n"
     ]
    },
    {
     "ename": "SpotifyException",
     "evalue": "http status: 400, code:-1 - https://api.spotify.com/v1/search?q=coldplay+yellow&limit=1&offset=0&type=track&market=AD&market=AR&market=AT&market=AU&market=BE&market=BG&market=BO&market=BR&market=CA&market=CH&market=CL&market=CO&market=CR&market=CY&market=CZ&market=DE&market=DK&market=DO&market=EC&market=EE&market=ES&market=FI&market=FR&market=GB&market=GR&market=GT&market=HK&market=HN&market=HU&market=ID&market=IE&market=IS&market=IT&market=JP&market=LI&market=LT&market=LU&market=LV&market=MC&market=MT&market=MX&market=MY&market=NI&market=NL&market=NO&market=NZ&market=PA&market=PE&market=PH&market=PL&market=PT&market=PY&market=SE&market=SG&market=SK&market=SV&market=TH&market=TR&market=TW&market=US&market=UY&market=VN:\n Only valid bearer authentication supported, reason: None",
     "output_type": "error",
     "traceback": [
      "\u001b[0;31m---------------------------------------------------------------------------\u001b[0m",
      "\u001b[0;31mHTTPError\u001b[0m                                 Traceback (most recent call last)",
      "File \u001b[0;32m~/Documents/ABA-Dataset/aba/lib/python3.10/site-packages/spotipy/client.py:245\u001b[0m, in \u001b[0;36mSpotify._internal_call\u001b[0;34m(self, method, url, payload, params)\u001b[0m\n\u001b[1;32m    240\u001b[0m response \u001b[39m=\u001b[39m \u001b[39mself\u001b[39m\u001b[39m.\u001b[39m_session\u001b[39m.\u001b[39mrequest(\n\u001b[1;32m    241\u001b[0m     method, url, headers\u001b[39m=\u001b[39mheaders, proxies\u001b[39m=\u001b[39m\u001b[39mself\u001b[39m\u001b[39m.\u001b[39mproxies,\n\u001b[1;32m    242\u001b[0m     timeout\u001b[39m=\u001b[39m\u001b[39mself\u001b[39m\u001b[39m.\u001b[39mrequests_timeout, \u001b[39m*\u001b[39m\u001b[39m*\u001b[39margs\n\u001b[1;32m    243\u001b[0m )\n\u001b[0;32m--> 245\u001b[0m response\u001b[39m.\u001b[39;49mraise_for_status()\n\u001b[1;32m    246\u001b[0m results \u001b[39m=\u001b[39m response\u001b[39m.\u001b[39mjson()\n",
      "File \u001b[0;32m~/Documents/ABA-Dataset/aba/lib/python3.10/site-packages/requests/models.py:1021\u001b[0m, in \u001b[0;36mResponse.raise_for_status\u001b[0;34m(self)\u001b[0m\n\u001b[1;32m   1020\u001b[0m \u001b[39mif\u001b[39;00m http_error_msg:\n\u001b[0;32m-> 1021\u001b[0m     \u001b[39mraise\u001b[39;00m HTTPError(http_error_msg, response\u001b[39m=\u001b[39m\u001b[39mself\u001b[39m)\n",
      "\u001b[0;31mHTTPError\u001b[0m: 400 Client Error: Bad Request for url: https://api.spotify.com/v1/search?q=coldplay+yellow&limit=1&offset=0&type=track&market=AD&market=AR&market=AT&market=AU&market=BE&market=BG&market=BO&market=BR&market=CA&market=CH&market=CL&market=CO&market=CR&market=CY&market=CZ&market=DE&market=DK&market=DO&market=EC&market=EE&market=ES&market=FI&market=FR&market=GB&market=GR&market=GT&market=HK&market=HN&market=HU&market=ID&market=IE&market=IS&market=IT&market=JP&market=LI&market=LT&market=LU&market=LV&market=MC&market=MT&market=MX&market=MY&market=NI&market=NL&market=NO&market=NZ&market=PA&market=PE&market=PH&market=PL&market=PT&market=PY&market=SE&market=SG&market=SK&market=SV&market=TH&market=TR&market=TW&market=US&market=UY&market=VN",
      "\nDuring handling of the above exception, another exception occurred:\n",
      "\u001b[0;31mSpotifyException\u001b[0m                          Traceback (most recent call last)",
      "\u001b[1;32m/home/ayushsingh/Documents/ABA-Dataset/src/test.ipynb Cell 1\u001b[0m in \u001b[0;36m<cell line: 22>\u001b[0;34m()\u001b[0m\n\u001b[1;32m     <a href='vscode-notebook-cell:/home/ayushsingh/Documents/ABA-Dataset/src/test.ipynb#W0sZmlsZQ%3D%3D?line=15'>16</a>\u001b[0m market \u001b[39m=\u001b[39m [ \u001b[39m\"\u001b[39m\u001b[39mAD\u001b[39m\u001b[39m\"\u001b[39m, \u001b[39m\"\u001b[39m\u001b[39mAR\u001b[39m\u001b[39m\"\u001b[39m, \u001b[39m\"\u001b[39m\u001b[39mAT\u001b[39m\u001b[39m\"\u001b[39m, \u001b[39m\"\u001b[39m\u001b[39mAU\u001b[39m\u001b[39m\"\u001b[39m, \u001b[39m\"\u001b[39m\u001b[39mBE\u001b[39m\u001b[39m\"\u001b[39m, \u001b[39m\"\u001b[39m\u001b[39mBG\u001b[39m\u001b[39m\"\u001b[39m, \u001b[39m\"\u001b[39m\u001b[39mBO\u001b[39m\u001b[39m\"\u001b[39m, \u001b[39m\"\u001b[39m\u001b[39mBR\u001b[39m\u001b[39m\"\u001b[39m, \u001b[39m\"\u001b[39m\u001b[39mCA\u001b[39m\u001b[39m\"\u001b[39m, \u001b[39m\"\u001b[39m\u001b[39mCH\u001b[39m\u001b[39m\"\u001b[39m, \u001b[39m\"\u001b[39m\u001b[39mCL\u001b[39m\u001b[39m\"\u001b[39m, \u001b[39m\"\u001b[39m\u001b[39mCO\u001b[39m\u001b[39m\"\u001b[39m, \u001b[39m\"\u001b[39m\u001b[39mCR\u001b[39m\u001b[39m\"\u001b[39m, \u001b[39m\"\u001b[39m\u001b[39mCY\u001b[39m\u001b[39m\"\u001b[39m, \n\u001b[1;32m     <a href='vscode-notebook-cell:/home/ayushsingh/Documents/ABA-Dataset/src/test.ipynb#W0sZmlsZQ%3D%3D?line=16'>17</a>\u001b[0m       \u001b[39m\"\u001b[39m\u001b[39mCZ\u001b[39m\u001b[39m\"\u001b[39m, \u001b[39m\"\u001b[39m\u001b[39mDE\u001b[39m\u001b[39m\"\u001b[39m, \u001b[39m\"\u001b[39m\u001b[39mDK\u001b[39m\u001b[39m\"\u001b[39m, \u001b[39m\"\u001b[39m\u001b[39mDO\u001b[39m\u001b[39m\"\u001b[39m, \u001b[39m\"\u001b[39m\u001b[39mEC\u001b[39m\u001b[39m\"\u001b[39m, \u001b[39m\"\u001b[39m\u001b[39mEE\u001b[39m\u001b[39m\"\u001b[39m, \u001b[39m\"\u001b[39m\u001b[39mES\u001b[39m\u001b[39m\"\u001b[39m, \u001b[39m\"\u001b[39m\u001b[39mFI\u001b[39m\u001b[39m\"\u001b[39m, \u001b[39m\"\u001b[39m\u001b[39mFR\u001b[39m\u001b[39m\"\u001b[39m, \u001b[39m\"\u001b[39m\u001b[39mGB\u001b[39m\u001b[39m\"\u001b[39m, \u001b[39m\"\u001b[39m\u001b[39mGR\u001b[39m\u001b[39m\"\u001b[39m, \u001b[39m\"\u001b[39m\u001b[39mGT\u001b[39m\u001b[39m\"\u001b[39m, \u001b[39m\"\u001b[39m\u001b[39mHK\u001b[39m\u001b[39m\"\u001b[39m, \u001b[39m\"\u001b[39m\u001b[39mHN\u001b[39m\u001b[39m\"\u001b[39m, \u001b[39m\"\u001b[39m\u001b[39mHU\u001b[39m\u001b[39m\"\u001b[39m, \n\u001b[1;32m     <a href='vscode-notebook-cell:/home/ayushsingh/Documents/ABA-Dataset/src/test.ipynb#W0sZmlsZQ%3D%3D?line=17'>18</a>\u001b[0m       \u001b[39m\"\u001b[39m\u001b[39mID\u001b[39m\u001b[39m\"\u001b[39m, \u001b[39m\"\u001b[39m\u001b[39mIE\u001b[39m\u001b[39m\"\u001b[39m, \u001b[39m\"\u001b[39m\u001b[39mIS\u001b[39m\u001b[39m\"\u001b[39m, \u001b[39m\"\u001b[39m\u001b[39mIT\u001b[39m\u001b[39m\"\u001b[39m, \u001b[39m\"\u001b[39m\u001b[39mJP\u001b[39m\u001b[39m\"\u001b[39m, \u001b[39m\"\u001b[39m\u001b[39mLI\u001b[39m\u001b[39m\"\u001b[39m, \u001b[39m\"\u001b[39m\u001b[39mLT\u001b[39m\u001b[39m\"\u001b[39m, \u001b[39m\"\u001b[39m\u001b[39mLU\u001b[39m\u001b[39m\"\u001b[39m, \u001b[39m\"\u001b[39m\u001b[39mLV\u001b[39m\u001b[39m\"\u001b[39m, \u001b[39m\"\u001b[39m\u001b[39mMC\u001b[39m\u001b[39m\"\u001b[39m, \u001b[39m\"\u001b[39m\u001b[39mMT\u001b[39m\u001b[39m\"\u001b[39m, \u001b[39m\"\u001b[39m\u001b[39mMX\u001b[39m\u001b[39m\"\u001b[39m, \u001b[39m\"\u001b[39m\u001b[39mMY\u001b[39m\u001b[39m\"\u001b[39m, \u001b[39m\"\u001b[39m\u001b[39mNI\u001b[39m\u001b[39m\"\u001b[39m, \u001b[39m\"\u001b[39m\u001b[39mNL\u001b[39m\u001b[39m\"\u001b[39m, \n\u001b[1;32m     <a href='vscode-notebook-cell:/home/ayushsingh/Documents/ABA-Dataset/src/test.ipynb#W0sZmlsZQ%3D%3D?line=18'>19</a>\u001b[0m       \u001b[39m\"\u001b[39m\u001b[39mNO\u001b[39m\u001b[39m\"\u001b[39m, \u001b[39m\"\u001b[39m\u001b[39mNZ\u001b[39m\u001b[39m\"\u001b[39m, \u001b[39m\"\u001b[39m\u001b[39mPA\u001b[39m\u001b[39m\"\u001b[39m, \u001b[39m\"\u001b[39m\u001b[39mPE\u001b[39m\u001b[39m\"\u001b[39m, \u001b[39m\"\u001b[39m\u001b[39mPH\u001b[39m\u001b[39m\"\u001b[39m, \u001b[39m\"\u001b[39m\u001b[39mPL\u001b[39m\u001b[39m\"\u001b[39m, \u001b[39m\"\u001b[39m\u001b[39mPT\u001b[39m\u001b[39m\"\u001b[39m, \u001b[39m\"\u001b[39m\u001b[39mPY\u001b[39m\u001b[39m\"\u001b[39m, \u001b[39m\"\u001b[39m\u001b[39mSE\u001b[39m\u001b[39m\"\u001b[39m, \u001b[39m\"\u001b[39m\u001b[39mSG\u001b[39m\u001b[39m\"\u001b[39m, \u001b[39m\"\u001b[39m\u001b[39mSK\u001b[39m\u001b[39m\"\u001b[39m, \u001b[39m\"\u001b[39m\u001b[39mSV\u001b[39m\u001b[39m\"\u001b[39m, \u001b[39m\"\u001b[39m\u001b[39mTH\u001b[39m\u001b[39m\"\u001b[39m, \u001b[39m\"\u001b[39m\u001b[39mTR\u001b[39m\u001b[39m\"\u001b[39m, \u001b[39m\"\u001b[39m\u001b[39mTW\u001b[39m\u001b[39m\"\u001b[39m, \n\u001b[1;32m     <a href='vscode-notebook-cell:/home/ayushsingh/Documents/ABA-Dataset/src/test.ipynb#W0sZmlsZQ%3D%3D?line=19'>20</a>\u001b[0m       \u001b[39m\"\u001b[39m\u001b[39mUS\u001b[39m\u001b[39m\"\u001b[39m, \u001b[39m\"\u001b[39m\u001b[39mUY\u001b[39m\u001b[39m\"\u001b[39m, \u001b[39m\"\u001b[39m\u001b[39mVN\u001b[39m\u001b[39m\"\u001b[39m ]\n\u001b[1;32m     <a href='vscode-notebook-cell:/home/ayushsingh/Documents/ABA-Dataset/src/test.ipynb#W0sZmlsZQ%3D%3D?line=20'>21</a>\u001b[0m track \u001b[39m=\u001b[39m \u001b[39m\"\u001b[39m\u001b[39mcoldplay yellow\u001b[39m\u001b[39m\"\u001b[39m\n\u001b[0;32m---> <a href='vscode-notebook-cell:/home/ayushsingh/Documents/ABA-Dataset/src/test.ipynb#W0sZmlsZQ%3D%3D?line=21'>22</a>\u001b[0m res \u001b[39m=\u001b[39m spotify\u001b[39m.\u001b[39;49msearch(track, \u001b[39mtype\u001b[39;49m\u001b[39m=\u001b[39;49m\u001b[39m\"\u001b[39;49m\u001b[39mtrack\u001b[39;49m\u001b[39m\"\u001b[39;49m, market\u001b[39m=\u001b[39;49mmarket, limit\u001b[39m=\u001b[39;49m\u001b[39m1\u001b[39;49m)\n\u001b[1;32m     <a href='vscode-notebook-cell:/home/ayushsingh/Documents/ABA-Dataset/src/test.ipynb#W0sZmlsZQ%3D%3D?line=22'>23</a>\u001b[0m \u001b[39mprint\u001b[39m(res)\n",
      "File \u001b[0;32m~/Documents/ABA-Dataset/aba/lib/python3.10/site-packages/spotipy/client.py:553\u001b[0m, in \u001b[0;36mSpotify.search\u001b[0;34m(self, q, limit, offset, type, market)\u001b[0m\n\u001b[1;32m    538\u001b[0m \u001b[39mdef\u001b[39;00m \u001b[39msearch\u001b[39m(\u001b[39mself\u001b[39m, q, limit\u001b[39m=\u001b[39m\u001b[39m10\u001b[39m, offset\u001b[39m=\u001b[39m\u001b[39m0\u001b[39m, \u001b[39mtype\u001b[39m\u001b[39m=\u001b[39m\u001b[39m\"\u001b[39m\u001b[39mtrack\u001b[39m\u001b[39m\"\u001b[39m, market\u001b[39m=\u001b[39m\u001b[39mNone\u001b[39;00m):\n\u001b[1;32m    539\u001b[0m     \u001b[39m\"\"\" searches for an item\u001b[39;00m\n\u001b[1;32m    540\u001b[0m \n\u001b[1;32m    541\u001b[0m \u001b[39m        Parameters:\u001b[39;00m\n\u001b[0;32m   (...)\u001b[0m\n\u001b[1;32m    551\u001b[0m \u001b[39m                       from_token.\u001b[39;00m\n\u001b[1;32m    552\u001b[0m \u001b[39m    \"\"\"\u001b[39;00m\n\u001b[0;32m--> 553\u001b[0m     \u001b[39mreturn\u001b[39;00m \u001b[39mself\u001b[39;49m\u001b[39m.\u001b[39;49m_get(\n\u001b[1;32m    554\u001b[0m         \u001b[39m\"\u001b[39;49m\u001b[39msearch\u001b[39;49m\u001b[39m\"\u001b[39;49m, q\u001b[39m=\u001b[39;49mq, limit\u001b[39m=\u001b[39;49mlimit, offset\u001b[39m=\u001b[39;49moffset, \u001b[39mtype\u001b[39;49m\u001b[39m=\u001b[39;49m\u001b[39mtype\u001b[39;49m, market\u001b[39m=\u001b[39;49mmarket\n\u001b[1;32m    555\u001b[0m     )\n",
      "File \u001b[0;32m~/Documents/ABA-Dataset/aba/lib/python3.10/site-packages/spotipy/client.py:297\u001b[0m, in \u001b[0;36mSpotify._get\u001b[0;34m(self, url, args, payload, **kwargs)\u001b[0m\n\u001b[1;32m    294\u001b[0m \u001b[39mif\u001b[39;00m args:\n\u001b[1;32m    295\u001b[0m     kwargs\u001b[39m.\u001b[39mupdate(args)\n\u001b[0;32m--> 297\u001b[0m \u001b[39mreturn\u001b[39;00m \u001b[39mself\u001b[39;49m\u001b[39m.\u001b[39;49m_internal_call(\u001b[39m\"\u001b[39;49m\u001b[39mGET\u001b[39;49m\u001b[39m\"\u001b[39;49m, url, payload, kwargs)\n",
      "File \u001b[0;32m~/Documents/ABA-Dataset/aba/lib/python3.10/site-packages/spotipy/client.py:267\u001b[0m, in \u001b[0;36mSpotify._internal_call\u001b[0;34m(self, method, url, payload, params)\u001b[0m\n\u001b[1;32m    260\u001b[0m         reason \u001b[39m=\u001b[39m \u001b[39mNone\u001b[39;00m\n\u001b[1;32m    262\u001b[0m     logger\u001b[39m.\u001b[39merror(\n\u001b[1;32m    263\u001b[0m         \u001b[39m'\u001b[39m\u001b[39mHTTP Error for \u001b[39m\u001b[39m%s\u001b[39;00m\u001b[39m to \u001b[39m\u001b[39m%s\u001b[39;00m\u001b[39m with Params: \u001b[39m\u001b[39m%s\u001b[39;00m\u001b[39m returned \u001b[39m\u001b[39m%s\u001b[39;00m\u001b[39m due to \u001b[39m\u001b[39m%s\u001b[39;00m\u001b[39m'\u001b[39m,\n\u001b[1;32m    264\u001b[0m         method, url, args\u001b[39m.\u001b[39mget(\u001b[39m\"\u001b[39m\u001b[39mparams\u001b[39m\u001b[39m\"\u001b[39m), response\u001b[39m.\u001b[39mstatus_code, msg\n\u001b[1;32m    265\u001b[0m     )\n\u001b[0;32m--> 267\u001b[0m     \u001b[39mraise\u001b[39;00m SpotifyException(\n\u001b[1;32m    268\u001b[0m         response\u001b[39m.\u001b[39mstatus_code,\n\u001b[1;32m    269\u001b[0m         \u001b[39m-\u001b[39m\u001b[39m1\u001b[39m,\n\u001b[1;32m    270\u001b[0m         \u001b[39m\"\u001b[39m\u001b[39m%s\u001b[39;00m\u001b[39m:\u001b[39m\u001b[39m\\n\u001b[39;00m\u001b[39m \u001b[39m\u001b[39m%s\u001b[39;00m\u001b[39m\"\u001b[39m \u001b[39m%\u001b[39m (response\u001b[39m.\u001b[39murl, msg),\n\u001b[1;32m    271\u001b[0m         reason\u001b[39m=\u001b[39mreason,\n\u001b[1;32m    272\u001b[0m         headers\u001b[39m=\u001b[39mresponse\u001b[39m.\u001b[39mheaders,\n\u001b[1;32m    273\u001b[0m     )\n\u001b[1;32m    274\u001b[0m \u001b[39mexcept\u001b[39;00m requests\u001b[39m.\u001b[39mexceptions\u001b[39m.\u001b[39mRetryError \u001b[39mas\u001b[39;00m retry_error:\n\u001b[1;32m    275\u001b[0m     request \u001b[39m=\u001b[39m retry_error\u001b[39m.\u001b[39mrequest\n",
      "\u001b[0;31mSpotifyException\u001b[0m: http status: 400, code:-1 - https://api.spotify.com/v1/search?q=coldplay+yellow&limit=1&offset=0&type=track&market=AD&market=AR&market=AT&market=AU&market=BE&market=BG&market=BO&market=BR&market=CA&market=CH&market=CL&market=CO&market=CR&market=CY&market=CZ&market=DE&market=DK&market=DO&market=EC&market=EE&market=ES&market=FI&market=FR&market=GB&market=GR&market=GT&market=HK&market=HN&market=HU&market=ID&market=IE&market=IS&market=IT&market=JP&market=LI&market=LT&market=LU&market=LV&market=MC&market=MT&market=MX&market=MY&market=NI&market=NL&market=NO&market=NZ&market=PA&market=PE&market=PH&market=PL&market=PT&market=PY&market=SE&market=SG&market=SK&market=SV&market=TH&market=TR&market=TW&market=US&market=UY&market=VN:\n Only valid bearer authentication supported, reason: None"
     ]
    }
   ],
   "source": [
    "import spotipy\n",
    "\n",
    "from spotipy.oauth2 import SpotifyClientCredentials\n",
    "\n",
    "CLIENT_ID = \"e26a7be684d94dd694705a9ea6fd0ad1\"\n",
    "CLIENT_SECRET = \"3b6cedb3e4144243b8555e0b911e7b33\"\n",
    "\n",
    "credentials = SpotifyClientCredentials(\n",
    "        client_id=CLIENT_ID,\n",
    "        client_secret=CLIENT_SECRET)\n",
    "\n",
    "token = credentials.get_access_token()\n",
    "\n",
    "spotify = spotipy.Spotify(auth=token)\n",
    "\n",
    "market = [ \"AD\", \"AR\", \"AT\", \"AU\", \"BE\", \"BG\", \"BO\", \"BR\", \"CA\", \"CH\", \"CL\", \"CO\", \"CR\", \"CY\", \n",
    "      \"CZ\", \"DE\", \"DK\", \"DO\", \"EC\", \"EE\", \"ES\", \"FI\", \"FR\", \"GB\", \"GR\", \"GT\", \"HK\", \"HN\", \"HU\", \n",
    "      \"ID\", \"IE\", \"IS\", \"IT\", \"JP\", \"LI\", \"LT\", \"LU\", \"LV\", \"MC\", \"MT\", \"MX\", \"MY\", \"NI\", \"NL\", \n",
    "      \"NO\", \"NZ\", \"PA\", \"PE\", \"PH\", \"PL\", \"PT\", \"PY\", \"SE\", \"SG\", \"SK\", \"SV\", \"TH\", \"TR\", \"TW\", \n",
    "      \"US\", \"UY\", \"VN\" ]\n",
    "track = \"coldplay yellow\"\n",
    "res = spotify.search(track, type=\"track\", market=market, limit=1)\n",
    "print(res)"
   ]
  }
 ],
 "metadata": {
  "kernelspec": {
   "display_name": "Python 3.10.4 ('aba': venv)",
   "language": "python",
   "name": "python3"
  },
  "language_info": {
   "codemirror_mode": {
    "name": "ipython",
    "version": 3
   },
   "file_extension": ".py",
   "mimetype": "text/x-python",
   "name": "python",
   "nbconvert_exporter": "python",
   "pygments_lexer": "ipython3",
   "version": "3.10.4"
  },
  "orig_nbformat": 4,
  "vscode": {
   "interpreter": {
    "hash": "996aa2afc75a9dcb32e7fdc24438b750f3f9249aa23c9b9690b3f31d49961b70"
   }
  }
 },
 "nbformat": 4,
 "nbformat_minor": 2
}
