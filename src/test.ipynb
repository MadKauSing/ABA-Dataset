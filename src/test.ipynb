{
 "cells": [
  {
   "cell_type": "code",
   "execution_count": 1,
   "metadata": {},
   "outputs": [
    {
     "name": "stdout",
     "output_type": "stream",
     "text": [
      "0 The Local Train  –  Choo Lo\n",
      "1 Aditya A  –  Chaand Baaliyan\n",
      "2 Himonshu Parikh  –  Katputli Ke Dhaage\n",
      "3 Akanksha Sethi  –  Raaz Tera Mera\n",
      "4 Shivoryx  –  Woh Raat\n",
      "5 Zariya  –  Khoya\n",
      "6 Kavita Seth  –  Rangi Saari\n",
      "7 Ritviz  –  Aaj Na\n",
      "8 Anumita Nadesan  –  Khwaab\n",
      "9 Mitraz  –  Akhiyaan\n",
      "10 Deepak Rathore Project  –  Tuta Pull Wahan\n",
      "11 The Local Train  –  Choo Lo\n",
      "12 Aditya A  –  Chaand Baaliyan\n",
      "13 Himonshu Parikh  –  Katputli Ke Dhaage\n",
      "14 Knucks  –  Playa\n",
      "15 Knucks  –  Send Nudes\n",
      "16 Akanksha Sethi  –  Raaz Tera Mera\n",
      "17 Knucks  –  Send Nudes\n",
      "18 Knucks  –  Los Pollos Hermanos\n",
      "19 Shivoryx  –  Woh Raat\n",
      "20 Zariya  –  Khoya\n",
      "21 Kavita Seth  –  Rangi Saari\n",
      "22 Ritviz  –  Aaj Na\n",
      "23 Mitraz  –  Muskurahat\n",
      "24 Faridkot  –  Nasha (Equals Sessions)\n",
      "25 Dikshant  –  Aankhon Se Batana\n",
      "26 Anumita Nadesan  –  Khwaab\n",
      "27 Mitraz  –  Akhiyaan\n",
      "28 Mitraz  –  Akhiyaan\n",
      "29 Headie One  –  Can't Be Us\n",
      "30 Anuv Jain  –  Meri Baaton Mein Tu\n",
      "31 Iqlipse Nova  –  Mera Safar\n",
      "32 Lost Stories  –  Mai Ni Meriye\n",
      "33 Dream Note  –  Kahaani\n",
      "34 Anuv Jain  –  Mishri\n",
      "35 Abhilasha Sinha  –  Jab Tum Miley\n",
      "36 VIBIE  –  Saibo - Lofi Flip\n",
      "37 VIBIE  –  Doobey - Lofi Flip\n",
      "38 Last Minute India  –  Yaadein\n",
      "39 Last Minute India  –  Yaadein\n",
      "40 KhoslaRaghu  –  Mere Saath Tu\n",
      "41 Aneesh Gera  –  Eye For An Eye - Soulshifter Remix\n",
      "42 Blanco  –  Pull Up\n",
      "43 Sneakbo  –  Love Is A Gamble (feat. Kida Kudz)\n",
      "44 M Huncho  –  Overpriced\n",
      "45 ArrDee  –  Hello Mate\n",
      "46 Fizzler  –  Please Stay\n",
      "47 Yung Fume  –  Late Night Thinking\n",
      "48 Tidez  –  Out of Time\n",
      "49 Brandz  –  Time\n"
     ]
    }
   ],
   "source": [
    "import spotipy\n",
    "from spotipy.oauth2 import SpotifyOAuth\n",
    "\n",
    "CLIENT_ID = \"834e7549e0fb4b4a89ca4ba4ead45f93\"\n",
    "CLIENT_SECRET = \"470a82dcfc844634ad6705a1a191866d\"\n",
    "REDIRECT= \"http://localhost:8888/callback\"\n",
    "scope = \"user-read-recently-played\"\n",
    "\n",
    "sp = spotipy.Spotify(auth_manager=SpotifyOAuth(client_id=CLIENT_ID, client_secret= CLIENT_SECRET, redirect_uri=REDIRECT, scope=scope))\n",
    "\n",
    "results = sp.current_user_recently_played()\n",
    "for idx, item in enumerate(results['items']):\n",
    "    track = item['track']\n",
    "    print(idx, track['artists'][0]['name'], \" – \", track['name'])"
   ]
  },
  {
   "cell_type": "code",
   "execution_count": 2,
   "metadata": {},
   "outputs": [
    {
     "name": "stdout",
     "output_type": "stream",
     "text": [
      "Tha Kar Ke (Remix)\n",
      "A Clown's Junket\n",
      "Tricky Trap\n",
      "Eye For An Eye - Soulshifter Remix\n",
      "Peak of Sunshine\n",
      "Nasha Sa\n",
      "Fire Night\n",
      "Improvisation On the Theme Music from Pather Panchali\n",
      "Karnataki\n",
      "Kafi-Holi\n",
      "Raga Rageshri Pt. 3\n",
      "Raga Palas Kafi\n",
      "Dhun (Dadra and Fast Teental)\n",
      "Raga Desh\n",
      "Dadra\n"
     ]
    }
   ],
   "source": [
    "# sp = spotipy.Spotify(auth_manager=SpotifyClientCredentials(client_id=CLIENT_ID,\n",
    "#                                               top 20 indian genres             client_secret=CLIENT_SECRET))\n",
    "import json\n",
    "results = sp.search(q='genre:indian indie',type='track' ,limit=20)\n",
    "# print(json.dumps(results['tracks'][\"items\"][0][\"id\"], indent = 1))\n",
    "\n",
    "\n",
    "for i in results['tracks']['items']:\n",
    "    print(i['name'])\n",
    "    #print(idx, track['artists'][0]['name'], \" – \", track['name'])\n",
    "\n"
   ]
  },
  {
   "cell_type": "code",
   "execution_count": null,
   "metadata": {},
   "outputs": [],
   "source": []
  },
  {
   "cell_type": "code",
   "execution_count": 3,
   "metadata": {},
   "outputs": [],
   "source": [
    "# import spotdl\n",
    "# import os\n",
    "\n",
    "# id=\"4Q7Q9bmbY5Lo7YamHngO4O\"\n",
    "# strin=f\"spotdl https://open.spotify.com/playlist/37i9dQZF1E8UXBoz02kGID\"\n",
    "\n",
    "# os.system(strin)"
   ]
  },
  {
   "cell_type": "code",
   "execution_count": 4,
   "metadata": {},
   "outputs": [
    {
     "name": "stderr",
     "output_type": "stream",
     "text": [
      "HTTP Error for GET to https://api.spotify.com/v1/users/spotify/starred with Params: {} returned 403 due to You don't have permission to perform this action.\n"
     ]
    },
    {
     "ename": "SpotifyException",
     "evalue": "http status: 403, code:-1 - https://api.spotify.com/v1/users/spotify/starred:\n You don't have permission to perform this action., reason: None",
     "output_type": "error",
     "traceback": [
      "\u001b[0;31m---------------------------------------------------------------------------\u001b[0m",
      "\u001b[0;31mHTTPError\u001b[0m                                 Traceback (most recent call last)",
      "File \u001b[0;32m~/Documents/ABA-Dataset/aba/lib/python3.10/site-packages/spotipy/client.py:245\u001b[0m, in \u001b[0;36mSpotify._internal_call\u001b[0;34m(self, method, url, payload, params)\u001b[0m\n\u001b[1;32m    240\u001b[0m response \u001b[39m=\u001b[39m \u001b[39mself\u001b[39m\u001b[39m.\u001b[39m_session\u001b[39m.\u001b[39mrequest(\n\u001b[1;32m    241\u001b[0m     method, url, headers\u001b[39m=\u001b[39mheaders, proxies\u001b[39m=\u001b[39m\u001b[39mself\u001b[39m\u001b[39m.\u001b[39mproxies,\n\u001b[1;32m    242\u001b[0m     timeout\u001b[39m=\u001b[39m\u001b[39mself\u001b[39m\u001b[39m.\u001b[39mrequests_timeout, \u001b[39m*\u001b[39m\u001b[39m*\u001b[39margs\n\u001b[1;32m    243\u001b[0m )\n\u001b[0;32m--> 245\u001b[0m response\u001b[39m.\u001b[39;49mraise_for_status()\n\u001b[1;32m    246\u001b[0m results \u001b[39m=\u001b[39m response\u001b[39m.\u001b[39mjson()\n",
      "File \u001b[0;32m~/Documents/ABA-Dataset/aba/lib/python3.10/site-packages/requests/models.py:1021\u001b[0m, in \u001b[0;36mResponse.raise_for_status\u001b[0;34m(self)\u001b[0m\n\u001b[1;32m   1020\u001b[0m \u001b[39mif\u001b[39;00m http_error_msg:\n\u001b[0;32m-> 1021\u001b[0m     \u001b[39mraise\u001b[39;00m HTTPError(http_error_msg, response\u001b[39m=\u001b[39m\u001b[39mself\u001b[39m)\n",
      "\u001b[0;31mHTTPError\u001b[0m: 403 Client Error: Forbidden for url: https://api.spotify.com/v1/users/spotify/starred",
      "\nDuring handling of the above exception, another exception occurred:\n",
      "\u001b[0;31mSpotifyException\u001b[0m                          Traceback (most recent call last)",
      "\u001b[1;32m/home/ayushsingh/Documents/ABA-Dataset/src/test.ipynb Cell 5\u001b[0m in \u001b[0;36m<cell line: 1>\u001b[0;34m()\u001b[0m\n\u001b[0;32m----> <a href='vscode-notebook-cell:/home/ayushsingh/Documents/ABA-Dataset/src/test.ipynb#W4sZmlsZQ%3D%3D?line=0'>1</a>\u001b[0m res\u001b[39m=\u001b[39msp\u001b[39m.\u001b[39;49muser_playlist(user\u001b[39m=\u001b[39;49m\u001b[39m'\u001b[39;49m\u001b[39mspotify\u001b[39;49m\u001b[39m'\u001b[39;49m)\n",
      "File \u001b[0;32m~/Documents/ABA-Dataset/aba/lib/python3.10/site-packages/spotipy/client.py:720\u001b[0m, in \u001b[0;36mSpotify.user_playlist\u001b[0;34m(self, user, playlist_id, fields, market)\u001b[0m\n\u001b[1;32m    712\u001b[0m \u001b[39m\"\"\" Gets playlist of a user\u001b[39;00m\n\u001b[1;32m    713\u001b[0m \n\u001b[1;32m    714\u001b[0m \u001b[39m    Parameters:\u001b[39;00m\n\u001b[0;32m   (...)\u001b[0m\n\u001b[1;32m    717\u001b[0m \u001b[39m        - fields - which fields to return\u001b[39;00m\n\u001b[1;32m    718\u001b[0m \u001b[39m\"\"\"\u001b[39;00m\n\u001b[1;32m    719\u001b[0m \u001b[39mif\u001b[39;00m playlist_id \u001b[39mis\u001b[39;00m \u001b[39mNone\u001b[39;00m:\n\u001b[0;32m--> 720\u001b[0m     \u001b[39mreturn\u001b[39;00m \u001b[39mself\u001b[39;49m\u001b[39m.\u001b[39;49m_get(\u001b[39m\"\u001b[39;49m\u001b[39musers/\u001b[39;49m\u001b[39m%s\u001b[39;49;00m\u001b[39m/starred\u001b[39;49m\u001b[39m\"\u001b[39;49m \u001b[39m%\u001b[39;49m user)\n\u001b[1;32m    721\u001b[0m \u001b[39mreturn\u001b[39;00m \u001b[39mself\u001b[39m\u001b[39m.\u001b[39mplaylist(playlist_id, fields\u001b[39m=\u001b[39mfields, market\u001b[39m=\u001b[39mmarket)\n",
      "File \u001b[0;32m~/Documents/ABA-Dataset/aba/lib/python3.10/site-packages/spotipy/client.py:297\u001b[0m, in \u001b[0;36mSpotify._get\u001b[0;34m(self, url, args, payload, **kwargs)\u001b[0m\n\u001b[1;32m    294\u001b[0m \u001b[39mif\u001b[39;00m args:\n\u001b[1;32m    295\u001b[0m     kwargs\u001b[39m.\u001b[39mupdate(args)\n\u001b[0;32m--> 297\u001b[0m \u001b[39mreturn\u001b[39;00m \u001b[39mself\u001b[39;49m\u001b[39m.\u001b[39;49m_internal_call(\u001b[39m\"\u001b[39;49m\u001b[39mGET\u001b[39;49m\u001b[39m\"\u001b[39;49m, url, payload, kwargs)\n",
      "File \u001b[0;32m~/Documents/ABA-Dataset/aba/lib/python3.10/site-packages/spotipy/client.py:267\u001b[0m, in \u001b[0;36mSpotify._internal_call\u001b[0;34m(self, method, url, payload, params)\u001b[0m\n\u001b[1;32m    260\u001b[0m         reason \u001b[39m=\u001b[39m \u001b[39mNone\u001b[39;00m\n\u001b[1;32m    262\u001b[0m     logger\u001b[39m.\u001b[39merror(\n\u001b[1;32m    263\u001b[0m         \u001b[39m'\u001b[39m\u001b[39mHTTP Error for \u001b[39m\u001b[39m%s\u001b[39;00m\u001b[39m to \u001b[39m\u001b[39m%s\u001b[39;00m\u001b[39m with Params: \u001b[39m\u001b[39m%s\u001b[39;00m\u001b[39m returned \u001b[39m\u001b[39m%s\u001b[39;00m\u001b[39m due to \u001b[39m\u001b[39m%s\u001b[39;00m\u001b[39m'\u001b[39m,\n\u001b[1;32m    264\u001b[0m         method, url, args\u001b[39m.\u001b[39mget(\u001b[39m\"\u001b[39m\u001b[39mparams\u001b[39m\u001b[39m\"\u001b[39m), response\u001b[39m.\u001b[39mstatus_code, msg\n\u001b[1;32m    265\u001b[0m     )\n\u001b[0;32m--> 267\u001b[0m     \u001b[39mraise\u001b[39;00m SpotifyException(\n\u001b[1;32m    268\u001b[0m         response\u001b[39m.\u001b[39mstatus_code,\n\u001b[1;32m    269\u001b[0m         \u001b[39m-\u001b[39m\u001b[39m1\u001b[39m,\n\u001b[1;32m    270\u001b[0m         \u001b[39m\"\u001b[39m\u001b[39m%s\u001b[39;00m\u001b[39m:\u001b[39m\u001b[39m\\n\u001b[39;00m\u001b[39m \u001b[39m\u001b[39m%s\u001b[39;00m\u001b[39m\"\u001b[39m \u001b[39m%\u001b[39m (response\u001b[39m.\u001b[39murl, msg),\n\u001b[1;32m    271\u001b[0m         reason\u001b[39m=\u001b[39mreason,\n\u001b[1;32m    272\u001b[0m         headers\u001b[39m=\u001b[39mresponse\u001b[39m.\u001b[39mheaders,\n\u001b[1;32m    273\u001b[0m     )\n\u001b[1;32m    274\u001b[0m \u001b[39mexcept\u001b[39;00m requests\u001b[39m.\u001b[39mexceptions\u001b[39m.\u001b[39mRetryError \u001b[39mas\u001b[39;00m retry_error:\n\u001b[1;32m    275\u001b[0m     request \u001b[39m=\u001b[39m retry_error\u001b[39m.\u001b[39mrequest\n",
      "\u001b[0;31mSpotifyException\u001b[0m: http status: 403, code:-1 - https://api.spotify.com/v1/users/spotify/starred:\n You don't have permission to perform this action., reason: None"
     ]
    }
   ],
   "source": [
    "res=sp.user_playlists(user='spotify')"
   ]
  }
 ],
 "metadata": {
  "kernelspec": {
   "display_name": "Python 3.10.4 ('aba': venv)",
   "language": "python",
   "name": "python3"
  },
  "language_info": {
   "codemirror_mode": {
    "name": "ipython",
    "version": 3
   },
   "file_extension": ".py",
   "mimetype": "text/x-python",
   "name": "python",
   "nbconvert_exporter": "python",
   "pygments_lexer": "ipython3",
   "version": "3.10.4"
  },
  "orig_nbformat": 4,
  "vscode": {
   "interpreter": {
    "hash": "996aa2afc75a9dcb32e7fdc24438b750f3f9249aa23c9b9690b3f31d49961b70"
   }
  }
 },
 "nbformat": 4,
 "nbformat_minor": 2
}
